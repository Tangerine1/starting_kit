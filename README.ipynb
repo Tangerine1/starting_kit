{
 "cells": [
  {
   "cell_type": "markdown",
   "metadata": {
    "deletable": true,
    "editable": true
   },
   "source": [
    "<i> Adapted for Chalab by Isabelle Guyon from original code of Balázs Kégl (LAL/CNRS)</i>\n",
    "\n",
    "ALL INFORMATION, SOFTWARE, DOCUMENTATION, AND DATA ARE PROVIDED \"AS-IS\". The CDS, CHALEARN, AND/OR OTHER ORGANIZERS OR CODE AUTHORS DISCLAIM ANY EXPRESSED OR IMPLIED WARRANTIES, INCLUDING, BUT NOT LIMITED TO, THE IMPLIED WARRANTIES OF MERCHANTABILITY AND FITNESS FOR ANY PARTICULAR PURPOSE, AND THE WARRANTY OF NON-INFRIGEMENT OF ANY THIRD PARTY'S INTELLECTUAL PROPERTY RIGHTS. IN NO EVENT SHALL AUTHORS AND ORGANIZERS BE LIABLE FOR ANY SPECIAL, \n",
    "INDIRECT OR CONSEQUENTIAL DAMAGES OR ANY DAMAGES WHATSOEVER ARISING OUT OF OR IN CONNECTION WITH THE USE OR PERFORMANCE OF SOFTWARE, DOCUMENTS, MATERIALS, PUBLICATIONS, OR INFORMATION MADE AVAILABLE FOR THE CHALLENGE. "
   ]
  },
  {
   "cell_type": "markdown",
   "metadata": {
    "deletable": true,
    "editable": true
   },
   "source": [
    "## Introduction\n",
    "\n",
    "Starting kit for the challenge Pick The Sneak Peek. This challenge consists in finding the types of some movies based on their summary."
   ]
  },
  {
   "cell_type": "code",
   "execution_count": 1,
   "metadata": {
    "collapsed": false,
    "deletable": true,
    "editable": true
   },
   "outputs": [],
   "source": [
    "# le répertoire où se trouve le code\n",
    "codedir = 'sample_code/' \n",
    "\n",
    "# on ajoute au python path(qui indique à python quels dossiers il soit prendre en compte dans sa recherche de modules)\n",
    "# le répertoire contenant les données\n",
    "from sys import path; path.append(codedir)\n",
    "\n",
    "# %matplotlib performs the necessary behind-the-scenes setup for IPython to work correctly hand in hand with matplotlib\n",
    "# inline :  The resulting plots will then also be stored in the notebook document\n",
    "%matplotlib inline\n",
    "\n",
    "# pandas = bibliothèque pour manipuler facilement des données\n",
    "import pandas as pd\n",
    "\n",
    "# numpy = bibliothèque destinée à manipuler des matrices\n",
    "import numpy as np\n",
    "\n",
    "# tabulate = bibliothèque pour afficher de beaux tableaux\n",
    "from tabulate import tabulate\n",
    "\n",
    "# time = bibliothèque pour représenter et manipuler des temps : \n",
    "# par exemple time.time() donne le nombre de secondes écoulées depuis le 1er janvier 1970\n",
    "from time import time\n",
    "\n",
    "# matplotlib = bibliothèque pour créer des graphiques simplement\n",
    "import matplotlib.pyplot as plt"
   ]
  },
  {
   "cell_type": "markdown",
   "metadata": {
    "deletable": true,
    "editable": true
   },
   "source": [
    "## Fetch the data and load it"
   ]
  },
  {
   "cell_type": "code",
   "execution_count": 2,
   "metadata": {
    "collapsed": false,
    "deletable": true,
    "editable": true
   },
   "outputs": [
    {
     "name": "stdout",
     "output_type": "stream",
     "text": [
      "public_data/movies_feat.name   public_data/movies_train.data\r\n",
      "public_data/movies_label.name  public_data/movies_train.solution\r\n",
      "public_data/movies_test.data   public_data/movies_valid.data\r\n"
     ]
    }
   ],
   "source": [
    "# répertoire où se trouvent les données\n",
    "datadir = 'public_data/'    \n",
    "\n",
    "# basename = tous les fichiers dans le dossier \"public_data\" donc le nom commence par \"movies\"\n",
    "dataname = 'movies'\n",
    "basename = datadir  + dataname\n",
    "\n",
    "# affiche la liste de tous les fichiers que basename représente\n",
    "!ls $basename*"
   ]
  },
  {
   "cell_type": "code",
   "execution_count": 3,
   "metadata": {
    "collapsed": false,
    "deletable": true,
    "editable": true
   },
   "outputs": [
    {
     "name": "stdout",
     "output_type": "stream",
     "text": [
      "Info file NOT found : /root/Bureau/L2MI/MiniProjet/starting_kit/public_data/movies_public.info\n",
      "Reading public_data/movies_train.data...\n",
      "Converting {} to correct array\n",
      "Converting public_data/movies_train.data to sparse list\n",
      "Reading public_data/movies_test.data...\n",
      "Converting {} to correct array\n",
      "Converting public_data/movies_test.data to sparse list\n",
      "Reading public_data/movies_valid.data...\n",
      "Converting {} to correct array\n",
      "Converting public_data/movies_valid.data to sparse list\n",
      "Reading public_data/movies_train.data...\n",
      "Converting {} to correct array\n",
      "Converting public_data/movies_train.data to sparse list\n",
      "\tConverting sparse list to dok sparse matrix\n",
      "\tConverting dok sparse matrix to csr sparse matrix\n",
      "Reading public_data/movies_valid.data...\n",
      "Converting {} to correct array\n",
      "Converting public_data/movies_valid.data to sparse list\n",
      "\tConverting sparse list to dok sparse matrix\n",
      "\tConverting dok sparse matrix to csr sparse matrix\n",
      "Reading public_data/movies_test.data...\n",
      "Converting {} to correct array\n",
      "Converting public_data/movies_test.data to sparse list\n",
      "\tConverting sparse list to dok sparse matrix\n",
      "\tConverting dok sparse matrix to csr sparse matrix\n"
     ]
    }
   ],
   "source": [
    "# Lecture des dataset\n",
    "\n",
    "# os = bibliothèque dédiée au besoin de gestion de fichiers et de dossiers\n",
    "import os\n",
    "\n",
    "# le module sys contient des informations système\n",
    "# sys.argv contient les arguments passés en ligne de commande\n",
    "import sys\n",
    "from sys import argv, path\n",
    "\n",
    "# abspath prend un chemin qui peut être partiel ou même vide et retourne un chemin complet\n",
    "# print run_dir : /home/user/Bureau/Miniprojet/starting_kit\n",
    "run_dir = os.path.abspath(\".\")\n",
    "\n",
    "# print lib_dir : /home/user/Bureau/Miniprojet/starting_kit/sample_code\n",
    "lib_dir = os.path.join(run_dir, \"sample_code\")\n",
    "\n",
    "# print res_dir : /home/user/Bureau/Miniprojet/starting_kit/res\n",
    "res_dir = os.path.join(run_dir, \"res\")\n",
    "\n",
    "# ajoute run_dir et lib_dir au chemin\n",
    "path.append (run_dir)\n",
    "path.append (lib_dir)\n",
    "\n",
    "# datamanager = useful for locating the correct data file, load/save data and get info about them\n",
    "import data_io                      \n",
    "from data_io import vprint           \n",
    "from data_manager import DataManager \n",
    "#import data_io                      \n",
    "#from data_io import vprint           \n",
    "#from data_manager import DataManager \n",
    "#from data_io import vprint           \n",
    "#from data_manager import DataManager \n",
    "from classifier import Classifier     \n",
    "\n",
    "max_samples = 50000\n",
    "\n",
    "# input_dir = datadir = répertoire où se trouvent les données (public_data)\n",
    "input_dir = datadir\n",
    "\n",
    "# output_dir = repértoire res (dans le starting_kit)\n",
    "output_dir = res_dir\n",
    "\n",
    "# inventory data (and sort datasets names alphabetically)\n",
    "datanames = data_io.inventory_data(input_dir)\n",
    "\n",
    "# D = informations sur tous les fichiers et les données\n",
    "for basename in datanames:\n",
    "    D = DataManager(basename, input_dir, replace_missing=True, filter_features=True, max_samples=max_samples)\n",
    "\n",
    "    \"\"\"print D\n",
    "    DataManager : movies\n",
    "info:\n",
    "\ttask = multilabel.classification\n",
    "\tvalid_num = 3402\n",
    "\thas_categorical = 0\n",
    "\tfeat_type = Mixed\n",
    "\tformat = sparse\n",
    "\tmetric = auc_metric\n",
    "\ttarget_type = Binary\n",
    "\ttest_num = 5105\n",
    "\tlabel_num = 14\n",
    "\ttarget_num = 14\n",
    "\ttrain_num = 25521\n",
    "\thas_missing = 0\n",
    "\tusage = No Info File\n",
    "\tfeat_num = 102592\n",
    "\ttime_budget = 600\n",
    "\tis_sparse = 1\n",
    "\tname = movies\n",
    "data:\n",
    "\tX_train = array(25521, 102592)\n",
    "\tY_train = array(25521, 14)\n",
    "\tX_valid = array(3402, 102592)\n",
    "\tX_test = array(5105, 102592)\n",
    "feat_type:\tarray(102592,)\n",
    "feat_idx:\tarray(102592,)\"\"\""
   ]
  },
  {
   "cell_type": "code",
   "execution_count": 8,
   "metadata": {
    "collapsed": false,
    "deletable": true,
    "editable": true
   },
   "outputs": [
    {
     "name": "stdout",
     "output_type": "stream",
     "text": [
      "Taille des ensembles\n",
      "╒════════╤══════════╤═══════════╤═══════════╕\n",
      "│        │   X_test │   X_train │   X_valid │\n",
      "╞════════╪══════════╪═══════════╪═══════════╡\n",
      "│ Taille │     5105 │     25521 │      3402 │\n",
      "╘════════╧══════════╧═══════════╧═══════════╛\n",
      "\n",
      "Proportion des labels dans l'ensemble d'entraînement: \n",
      "╒════════════╤══════════╤═════════════╤═════════════╤═════════╤═════════╤═══════════╤═════════╕\n",
      "│            │ action   │ adventure   │ animation   │ crime   │ drama   │ fantasy   │ music   │\n",
      "╞════════════╪══════════╪═════════════╪═════════════╪═════════╪═════════╪═══════════╪═════════╡\n",
      "│ Proportion │ 20%      │ 18%         │ 7%          │ 15%     │ 58%     │ 6%        │ 8%      │\n",
      "╘════════════╧══════════╧═════════════╧═════════════╧═════════╧═════════╧═══════════╧═════════╛\n",
      "╒════════════╤═══════════════╤═══════════╤═══════════════════╤═════════╤════════════╤═══════╤═══════════╕\n",
      "│            │ family film   │ mystery   │ science fiction   │ sport   │ thriller   │ war   │ western   │\n",
      "╞════════════╪═══════════════╪═══════════╪═══════════════════╪═════════╪════════════╪═══════╪═══════════╡\n",
      "│ Proportion │ 9%            │ 6%        │ 19%               │ 6%      │ 20%        │ 4%    │ 3%        │\n",
      "╘════════════╧═══════════════╧═══════════╧═══════════════════╧═════════╧════════════╧═══════╧═══════════╛\n"
     ]
    }
   ],
   "source": [
    "# Mise en place des différents datasets\n",
    "X_train = D.data['X_train']\n",
    "y_train = D.data['Y_train']\n",
    "X_valid = D.data['X_valid']\n",
    "X_test = D.data['X_test']\n",
    "\n",
    "# Statistiques sur les données\n",
    "# DataFrame is a 2-dimensional labeled data structure with columns of potentially different types\n",
    "# peut être vu un peu comme une table SQL\n",
    "# The shape attribute for numpy arrays returns the dimensions of the array. If Y has n rows and m columns, \n",
    "# then Y.shape is (n,m). So Y.shape[0] is n.\n",
    "# df est donc le tableau représentant la taille des ensembles affiché ci-dessous\n",
    "df = pd.DataFrame({'X_train': X_train.shape[0], 'X_valid': X_valid.shape[0], 'X_test': X_test.shape[0]}, index=['Taille'])\n",
    "print \"Taille des ensembles\"\n",
    "print tabulate(df, headers='keys', tablefmt='fancy_grid')\n",
    "print\n",
    "print(\"Proportion des labels dans l'ensemble d'entraînement: \")\n",
    "\n",
    "# data = la somme des 1 dans chaque colonne de y_train (chaque colonne correspond à un genre de film)\n",
    "# divisée par le nombre total de lignes dans y_train\n",
    "# -> data contient les pourcentages des labels das l'ensemble d'entrainement\n",
    "data = sum(y_train)*1/len(y_train)\n",
    "list_genres = [\"drama\", \"action\", \"adventure\", \"animation\", \"crime\", \"fantasy\", \"music\", \n",
    "               \"mystery\", \"science fiction\", \"sport\", \"thriller\", \"war\", \"western\", \"family film\"]\n",
    "\n",
    "\n",
    "# str convertit des données en chaine de caractères\n",
    "df2 = pd.DataFrame({'drama': str(int(data[0]*100))+\"%\", \n",
    "                    'action': str(int(data[1]*100))+\"%\", \n",
    "                    'adventure': str(int(data[2]*100))+\"%\", \n",
    "                    'animation': str(int(data[3]*100))+\"%\", \n",
    "                    'crime': str(int(data[4]*100))+\"%\", \n",
    "                    'fantasy': str(int(data[5]*100))+\"%\", \n",
    "                    'music': str(int(data[6]*100))+\"%\", \n",
    "                    }\n",
    "                   , index=['Proportion'])\n",
    "print tabulate(df2, headers='keys', tablefmt='fancy_grid')\n",
    "\n",
    "df3 = pd.DataFrame({'mystery': str(int(data[7]*100))+\"%\", \n",
    "                    'science fiction': str(int(data[8]*100))+\"%\", \n",
    "                    'sport': str(int(data[9]*100))+\"%\", \n",
    "                    'thriller': str(int(data[10]*100))+\"%\", \n",
    "                    'war': str(int(data[11]*100))+\"%\", \n",
    "                    'western': str(int(data[12]*100))+\"%\", \n",
    "                    'family film': str(int(data[13]*100))+\"%\"\n",
    "                    } , index=['Proportion'])\n",
    "print tabulate(df3, headers='keys', tablefmt='fancy_grid')"
   ]
  },
  {
   "cell_type": "code",
   "execution_count": 31,
   "metadata": {
    "collapsed": false,
    "deletable": true,
    "editable": true
   },
   "outputs": [
    {
     "name": "stdout",
     "output_type": "stream",
     "text": [
      "['drama', 'action', 'adventure', 'animation', 'crime', 'fantasy', 'music', 'mystery', 'science fiction', 'sport', 'thriller', 'war', 'western', 'family film']\n"
     ]
    }
   ],
   "source": [
    "# df est le fichier movies_train représenté sous la forme d'un tableau avec : \n",
    "# colonnes = noms des genres de films\n",
    "# lignes = un exemple de l'ensemble d'entrainement (les x_train)\n",
    "# une case = 1 si cet exemple correspond à un film de cette catégorie\n",
    "df = pd.DataFrame(y_train, columns=list_genres)\n",
    "#df.head(5)\n",
    "print(list_genres)"
   ]
  },
  {
   "cell_type": "markdown",
   "metadata": {
    "deletable": true,
    "editable": true
   },
   "source": [
    "Corrélation entre les différents labels"
   ]
  },
  {
   "cell_type": "code",
   "execution_count": 32,
   "metadata": {
    "collapsed": false,
    "deletable": true,
    "editable": true
   },
   "outputs": [
    {
     "data": {
      "text/html": [
       "<div>\n",
       "<table border=\"1\" class=\"dataframe\">\n",
       "  <thead>\n",
       "    <tr style=\"text-align: right;\">\n",
       "      <th></th>\n",
       "      <th>drama</th>\n",
       "      <th>action</th>\n",
       "      <th>adventure</th>\n",
       "      <th>animation</th>\n",
       "      <th>crime</th>\n",
       "      <th>fantasy</th>\n",
       "      <th>music</th>\n",
       "      <th>mystery</th>\n",
       "      <th>science fiction</th>\n",
       "      <th>sport</th>\n",
       "      <th>thriller</th>\n",
       "      <th>war</th>\n",
       "      <th>western</th>\n",
       "      <th>family film</th>\n",
       "    </tr>\n",
       "  </thead>\n",
       "  <tbody>\n",
       "    <tr>\n",
       "      <th>drama</th>\n",
       "      <td>1.000000</td>\n",
       "      <td>-0.208763</td>\n",
       "      <td>-0.216760</td>\n",
       "      <td>-0.284272</td>\n",
       "      <td>0.023972</td>\n",
       "      <td>-0.128555</td>\n",
       "      <td>-0.044000</td>\n",
       "      <td>-0.035807</td>\n",
       "      <td>0.112253</td>\n",
       "      <td>-0.217192</td>\n",
       "      <td>-0.129986</td>\n",
       "      <td>0.058990</td>\n",
       "      <td>-0.095585</td>\n",
       "      <td>-0.180439</td>\n",
       "    </tr>\n",
       "    <tr>\n",
       "      <th>action</th>\n",
       "      <td>-0.208763</td>\n",
       "      <td>1.000000</td>\n",
       "      <td>0.578831</td>\n",
       "      <td>-0.070015</td>\n",
       "      <td>0.124419</td>\n",
       "      <td>0.021983</td>\n",
       "      <td>-0.099546</td>\n",
       "      <td>-0.040360</td>\n",
       "      <td>-0.136960</td>\n",
       "      <td>0.093208</td>\n",
       "      <td>0.178177</td>\n",
       "      <td>0.069429</td>\n",
       "      <td>0.188844</td>\n",
       "      <td>-0.083790</td>\n",
       "    </tr>\n",
       "    <tr>\n",
       "      <th>adventure</th>\n",
       "      <td>-0.216760</td>\n",
       "      <td>0.578831</td>\n",
       "      <td>1.000000</td>\n",
       "      <td>0.026332</td>\n",
       "      <td>0.052679</td>\n",
       "      <td>0.171581</td>\n",
       "      <td>-0.072731</td>\n",
       "      <td>-0.043965</td>\n",
       "      <td>-0.140764</td>\n",
       "      <td>0.122684</td>\n",
       "      <td>0.103371</td>\n",
       "      <td>0.047052</td>\n",
       "      <td>0.185662</td>\n",
       "      <td>0.100328</td>\n",
       "    </tr>\n",
       "    <tr>\n",
       "      <th>animation</th>\n",
       "      <td>-0.284272</td>\n",
       "      <td>-0.070015</td>\n",
       "      <td>0.026332</td>\n",
       "      <td>1.000000</td>\n",
       "      <td>-0.111831</td>\n",
       "      <td>0.161829</td>\n",
       "      <td>0.015435</td>\n",
       "      <td>-0.057264</td>\n",
       "      <td>-0.116972</td>\n",
       "      <td>0.028903</td>\n",
       "      <td>-0.125845</td>\n",
       "      <td>-0.052674</td>\n",
       "      <td>-0.031549</td>\n",
       "      <td>0.403996</td>\n",
       "    </tr>\n",
       "    <tr>\n",
       "      <th>crime</th>\n",
       "      <td>0.023972</td>\n",
       "      <td>0.124419</td>\n",
       "      <td>0.052679</td>\n",
       "      <td>-0.111831</td>\n",
       "      <td>1.000000</td>\n",
       "      <td>-0.087965</td>\n",
       "      <td>-0.083814</td>\n",
       "      <td>0.263243</td>\n",
       "      <td>-0.117597</td>\n",
       "      <td>-0.078899</td>\n",
       "      <td>0.369932</td>\n",
       "      <td>-0.071445</td>\n",
       "      <td>-0.038581</td>\n",
       "      <td>-0.118376</td>\n",
       "    </tr>\n",
       "    <tr>\n",
       "      <th>fantasy</th>\n",
       "      <td>-0.128555</td>\n",
       "      <td>0.021983</td>\n",
       "      <td>0.171581</td>\n",
       "      <td>0.161829</td>\n",
       "      <td>-0.087965</td>\n",
       "      <td>1.000000</td>\n",
       "      <td>-0.000447</td>\n",
       "      <td>-0.012425</td>\n",
       "      <td>-0.030846</td>\n",
       "      <td>0.130139</td>\n",
       "      <td>-0.055951</td>\n",
       "      <td>-0.040657</td>\n",
       "      <td>-0.040962</td>\n",
       "      <td>0.188094</td>\n",
       "    </tr>\n",
       "    <tr>\n",
       "      <th>music</th>\n",
       "      <td>-0.044000</td>\n",
       "      <td>-0.099546</td>\n",
       "      <td>-0.072731</td>\n",
       "      <td>0.015435</td>\n",
       "      <td>-0.083814</td>\n",
       "      <td>-0.000447</td>\n",
       "      <td>1.000000</td>\n",
       "      <td>-0.059403</td>\n",
       "      <td>0.093272</td>\n",
       "      <td>-0.058541</td>\n",
       "      <td>-0.106995</td>\n",
       "      <td>-0.045394</td>\n",
       "      <td>-0.030902</td>\n",
       "      <td>0.020607</td>\n",
       "    </tr>\n",
       "    <tr>\n",
       "      <th>mystery</th>\n",
       "      <td>-0.035807</td>\n",
       "      <td>-0.040360</td>\n",
       "      <td>-0.043965</td>\n",
       "      <td>-0.057264</td>\n",
       "      <td>0.263243</td>\n",
       "      <td>-0.012425</td>\n",
       "      <td>-0.059403</td>\n",
       "      <td>1.000000</td>\n",
       "      <td>-0.069484</td>\n",
       "      <td>-0.012411</td>\n",
       "      <td>0.335055</td>\n",
       "      <td>-0.046197</td>\n",
       "      <td>-0.039035</td>\n",
       "      <td>-0.062948</td>\n",
       "    </tr>\n",
       "    <tr>\n",
       "      <th>science fiction</th>\n",
       "      <td>0.112253</td>\n",
       "      <td>-0.136960</td>\n",
       "      <td>-0.140764</td>\n",
       "      <td>-0.116972</td>\n",
       "      <td>-0.117597</td>\n",
       "      <td>-0.030846</td>\n",
       "      <td>0.093272</td>\n",
       "      <td>-0.069484</td>\n",
       "      <td>1.000000</td>\n",
       "      <td>-0.104496</td>\n",
       "      <td>-0.161217</td>\n",
       "      <td>-0.023264</td>\n",
       "      <td>-0.046750</td>\n",
       "      <td>-0.100284</td>\n",
       "    </tr>\n",
       "    <tr>\n",
       "      <th>sport</th>\n",
       "      <td>-0.217192</td>\n",
       "      <td>0.093208</td>\n",
       "      <td>0.122684</td>\n",
       "      <td>0.028903</td>\n",
       "      <td>-0.078899</td>\n",
       "      <td>0.130139</td>\n",
       "      <td>-0.058541</td>\n",
       "      <td>-0.012411</td>\n",
       "      <td>-0.104496</td>\n",
       "      <td>1.000000</td>\n",
       "      <td>0.066996</td>\n",
       "      <td>-0.046744</td>\n",
       "      <td>-0.031165</td>\n",
       "      <td>-0.007743</td>\n",
       "    </tr>\n",
       "    <tr>\n",
       "      <th>thriller</th>\n",
       "      <td>-0.129986</td>\n",
       "      <td>0.178177</td>\n",
       "      <td>0.103371</td>\n",
       "      <td>-0.125845</td>\n",
       "      <td>0.369932</td>\n",
       "      <td>-0.055951</td>\n",
       "      <td>-0.106995</td>\n",
       "      <td>0.335055</td>\n",
       "      <td>-0.161217</td>\n",
       "      <td>0.066996</td>\n",
       "      <td>1.000000</td>\n",
       "      <td>-0.046444</td>\n",
       "      <td>-0.063714</td>\n",
       "      <td>-0.146190</td>\n",
       "    </tr>\n",
       "    <tr>\n",
       "      <th>war</th>\n",
       "      <td>0.058990</td>\n",
       "      <td>0.069429</td>\n",
       "      <td>0.047052</td>\n",
       "      <td>-0.052674</td>\n",
       "      <td>-0.071445</td>\n",
       "      <td>-0.040657</td>\n",
       "      <td>-0.045394</td>\n",
       "      <td>-0.046197</td>\n",
       "      <td>-0.023264</td>\n",
       "      <td>-0.046744</td>\n",
       "      <td>-0.046444</td>\n",
       "      <td>1.000000</td>\n",
       "      <td>-0.002066</td>\n",
       "      <td>-0.060001</td>\n",
       "    </tr>\n",
       "    <tr>\n",
       "      <th>western</th>\n",
       "      <td>-0.095585</td>\n",
       "      <td>0.188844</td>\n",
       "      <td>0.185662</td>\n",
       "      <td>-0.031549</td>\n",
       "      <td>-0.038581</td>\n",
       "      <td>-0.040962</td>\n",
       "      <td>-0.030902</td>\n",
       "      <td>-0.039035</td>\n",
       "      <td>-0.046750</td>\n",
       "      <td>-0.031165</td>\n",
       "      <td>-0.063714</td>\n",
       "      <td>-0.002066</td>\n",
       "      <td>1.000000</td>\n",
       "      <td>-0.029115</td>\n",
       "    </tr>\n",
       "    <tr>\n",
       "      <th>family film</th>\n",
       "      <td>-0.180439</td>\n",
       "      <td>-0.083790</td>\n",
       "      <td>0.100328</td>\n",
       "      <td>0.403996</td>\n",
       "      <td>-0.118376</td>\n",
       "      <td>0.188094</td>\n",
       "      <td>0.020607</td>\n",
       "      <td>-0.062948</td>\n",
       "      <td>-0.100284</td>\n",
       "      <td>-0.007743</td>\n",
       "      <td>-0.146190</td>\n",
       "      <td>-0.060001</td>\n",
       "      <td>-0.029115</td>\n",
       "      <td>1.000000</td>\n",
       "    </tr>\n",
       "  </tbody>\n",
       "</table>\n",
       "</div>"
      ],
      "text/plain": [
       "                    drama    action  adventure  animation     crime   fantasy  \\\n",
       "drama            1.000000 -0.208763  -0.216760  -0.284272  0.023972 -0.128555   \n",
       "action          -0.208763  1.000000   0.578831  -0.070015  0.124419  0.021983   \n",
       "adventure       -0.216760  0.578831   1.000000   0.026332  0.052679  0.171581   \n",
       "animation       -0.284272 -0.070015   0.026332   1.000000 -0.111831  0.161829   \n",
       "crime            0.023972  0.124419   0.052679  -0.111831  1.000000 -0.087965   \n",
       "fantasy         -0.128555  0.021983   0.171581   0.161829 -0.087965  1.000000   \n",
       "music           -0.044000 -0.099546  -0.072731   0.015435 -0.083814 -0.000447   \n",
       "mystery         -0.035807 -0.040360  -0.043965  -0.057264  0.263243 -0.012425   \n",
       "science fiction  0.112253 -0.136960  -0.140764  -0.116972 -0.117597 -0.030846   \n",
       "sport           -0.217192  0.093208   0.122684   0.028903 -0.078899  0.130139   \n",
       "thriller        -0.129986  0.178177   0.103371  -0.125845  0.369932 -0.055951   \n",
       "war              0.058990  0.069429   0.047052  -0.052674 -0.071445 -0.040657   \n",
       "western         -0.095585  0.188844   0.185662  -0.031549 -0.038581 -0.040962   \n",
       "family film     -0.180439 -0.083790   0.100328   0.403996 -0.118376  0.188094   \n",
       "\n",
       "                    music   mystery  science fiction     sport  thriller  \\\n",
       "drama           -0.044000 -0.035807         0.112253 -0.217192 -0.129986   \n",
       "action          -0.099546 -0.040360        -0.136960  0.093208  0.178177   \n",
       "adventure       -0.072731 -0.043965        -0.140764  0.122684  0.103371   \n",
       "animation        0.015435 -0.057264        -0.116972  0.028903 -0.125845   \n",
       "crime           -0.083814  0.263243        -0.117597 -0.078899  0.369932   \n",
       "fantasy         -0.000447 -0.012425        -0.030846  0.130139 -0.055951   \n",
       "music            1.000000 -0.059403         0.093272 -0.058541 -0.106995   \n",
       "mystery         -0.059403  1.000000        -0.069484 -0.012411  0.335055   \n",
       "science fiction  0.093272 -0.069484         1.000000 -0.104496 -0.161217   \n",
       "sport           -0.058541 -0.012411        -0.104496  1.000000  0.066996   \n",
       "thriller        -0.106995  0.335055        -0.161217  0.066996  1.000000   \n",
       "war             -0.045394 -0.046197        -0.023264 -0.046744 -0.046444   \n",
       "western         -0.030902 -0.039035        -0.046750 -0.031165 -0.063714   \n",
       "family film      0.020607 -0.062948        -0.100284 -0.007743 -0.146190   \n",
       "\n",
       "                      war   western  family film  \n",
       "drama            0.058990 -0.095585    -0.180439  \n",
       "action           0.069429  0.188844    -0.083790  \n",
       "adventure        0.047052  0.185662     0.100328  \n",
       "animation       -0.052674 -0.031549     0.403996  \n",
       "crime           -0.071445 -0.038581    -0.118376  \n",
       "fantasy         -0.040657 -0.040962     0.188094  \n",
       "music           -0.045394 -0.030902     0.020607  \n",
       "mystery         -0.046197 -0.039035    -0.062948  \n",
       "science fiction -0.023264 -0.046750    -0.100284  \n",
       "sport           -0.046744 -0.031165    -0.007743  \n",
       "thriller        -0.046444 -0.063714    -0.146190  \n",
       "war              1.000000 -0.002066    -0.060001  \n",
       "western         -0.002066  1.000000    -0.029115  \n",
       "family film     -0.060001 -0.029115     1.000000  "
      ]
     },
     "execution_count": 32,
     "metadata": {},
     "output_type": "execute_result"
    }
   ],
   "source": [
    "# plus la valeur est proche de 1 plus les genres sont liés\n",
    "# plus la valeur est proche de -1, plus les genres sont opposés\n",
    "corr = df.corr(method='pearson', min_periods=1)\n",
    "corr"
   ]
  },
  {
   "cell_type": "code",
   "execution_count": 33,
   "metadata": {
    "collapsed": false,
    "deletable": true,
    "editable": true
   },
   "outputs": [
    {
     "data": {
      "image/png": "[encoded data removed]",
      "text/plain": [
       "<matplotlib.figure.Figure at 0x7fae61ff1e90>"
      ]
     },
     "metadata": {},
     "output_type": "display_data"
    }
   ],
   "source": [
    "# heatmap de la matrice de correlation\n",
    "matrix = corr.values\n",
    "fig = plt.figure()\n",
    "ax = fig.add_subplot(1,1,1)\n",
    "ax.set_aspect('equal')\n",
    "plt.imshow(matrix, interpolation='nearest', label = list_genres)\n",
    "plt.colorbar()\n",
    "plt.title('Label Correlations')\n",
    "plt.show()"
   ]
  },
  {
   "cell_type": "markdown",
   "metadata": {
    "deletable": true,
    "editable": true
   },
   "source": [
    "# Scores with random techniques"
   ]
  },
  {
   "cell_type": "code",
   "execution_count": 34,
   "metadata": {
    "collapsed": false,
    "deletable": true,
    "editable": true
   },
   "outputs": [
    {
     "name": "stdout",
     "output_type": "stream",
     "text": [
      "Random Technique 1 : \n",
      "F1-Score with micro compute: 0.382558649702\n",
      "F1-Score with macro compute: 0.0524878898615\n",
      "F1-Score with weighted compute: 0.209577893903\n",
      "F1-Score with samples compute: 0.4216702647\n",
      "\n",
      "Random Technique 2 :\n",
      "F1-Score with micro compute: 0.212364658329\n",
      "F1-Score with macro compute: 0.212403429838\n",
      "F1-Score with weighted compute: 0.312121849991\n",
      "F1-Score with samples compute: 0.201526085568\n"
     ]
    }
   ],
   "source": [
    "# sklearn.metrics.f1_score(y_true, y_pred, labels=None, pos_label=1, average='binary', sample_weight=None) \n",
    "# calcule le f1 score \n",
    "# y_true = true positives\n",
    "# y_pred = predicted positives\n",
    "from sklearn.metrics import f1_score\n",
    "\n",
    "print('Random Technique 1 : ')\n",
    "# np.zeros(x, y) renvoie une matrice de taille x*y dont toutes les cases valent 0\n",
    "# y_pred est donc le même tableau que y_train avec des 0 partout\n",
    "y_pred = np.zeros(y_train.shape)\n",
    "for i in range(len(data)):\n",
    "    if data[i] > 0.5:\n",
    "        # y_pred[:,i] = toutes les lignes de la colonne d'indice i\n",
    "        # np.ones(x, y) renvoie une matrice de taille x*y dont toutes les cases valent 1\n",
    "        y_pred[:,i] = np.ones(y_pred.shape[0])\n",
    "# ici ce qu'on fait c'est qu'on crée le tableau de prédiction des classes y_pred;\n",
    "# tout d'abord en le mettant partout à 0, ensuite : \n",
    "# on connait dans data la proportion de films qui sont de chaque genre (dans data)\n",
    "# on suppose donc que si data[i] > 0.5 un film a plus de chances d'être dans cette catégorie i que de ne pas y être\n",
    "# on met donc dans la colonne correspondant à la catégorie i des 1 partout\n",
    "# en gros, pour y_pred, on dira que :\n",
    "# si pour une catégorie i, data[i] > 0.5, on prédira que tous les films appartiennent à cette catégorie\n",
    "# sinon on prédira qu'aucun film n'appartiennent à cette catégorie\n",
    "\n",
    "# ici \"metrics\" désignera plus ou moins le pourcentage d'erreur  \n",
    "\n",
    "# micro : Calculate metrics globally by counting the total true positives, false negatives and false positives.\n",
    "f1_micro = f1_score(y_train, y_pred, average=\"micro\")\n",
    "\n",
    "# macro : Calculate metrics for each label, and find their unweighted mean. \n",
    "# This does not take label imbalance into account.\n",
    "f1_macro = f1_score(y_train, y_pred, average=\"macro\")\n",
    "\n",
    "# weighted : Calculate metrics for each label, and find their average, weighted by support \n",
    "# (the number of true instances for each label)\n",
    "# -> comme macro sauf qu'on tient compte du label imbalance\n",
    "f1_weighted = f1_score(y_train, y_pred, average=\"weighted\")\n",
    "\n",
    "# samples : Calculate metrics for each instance, and find their average\n",
    "f1_samples = f1_score(y_train, y_pred, average=\"samples\")\n",
    "    \n",
    "print('F1-Score with micro compute: {0}'.format(f1_micro))\n",
    "print('F1-Score with macro compute: {0}'.format(f1_macro))\n",
    "print('F1-Score with weighted compute: {0}'.format(f1_weighted))\n",
    "print('F1-Score with samples compute: {0}'.format(f1_samples))\n",
    "\n",
    "print('\\nRandom Technique 2 :')\n",
    "y_pred = np.zeros(y_train.shape)\n",
    "for j in range(y_train.shape[1]):\n",
    "    # np.random.uniform (low, high, size) -> draw samples from a uniform distribution -> nombres aléatoires\n",
    "    inter = np.random.uniform(0,1,size = y_train.shape[0])\n",
    "    inter = [ 1 if inter[i] > data[j] else 0 for i in range(y_train.shape[0])]\n",
    "    y_pred[:,j] = inter\n",
    "    # ici y_pred[i] = 1 si un le nombre aléatoire est supérieur à data[i]\n",
    "\n",
    "f1_micro = f1_score(y_train, y_pred, average=\"micro\")\n",
    "f1_macro = f1_score(y_train, y_pred, average=\"macro\")\n",
    "f1_weighted = f1_score(y_train, y_pred, average=\"weighted\")\n",
    "f1_samples = f1_score(y_train, y_pred, average=\"samples\")\n",
    "\n",
    "print('F1-Score with micro compute: {0}'.format(f1_micro))\n",
    "print('F1-Score with macro compute: {0}'.format(f1_macro))\n",
    "print('F1-Score with weighted compute: {0}'.format(f1_weighted))\n",
    "print('F1-Score with samples compute: {0}'.format(f1_samples))"
   ]
  },
  {
   "cell_type": "markdown",
   "metadata": {
    "deletable": true,
    "editable": true
   },
   "source": [
    "### Building a predictive model"
   ]
  },
  {
   "cell_type": "markdown",
   "metadata": {
    "deletable": true,
    "editable": true
   },
   "source": [
    "The initial classifier in your starting kit (in the sample_code directory)."
   ]
  },
  {
   "cell_type": "code",
   "execution_count": 35,
   "metadata": {
    "collapsed": false,
    "deletable": true,
    "editable": true
   },
   "outputs": [],
   "source": [
    "import classifier\n",
    "\n",
    "# If you make changes to your code you have to reload it\n",
    "reload(classifier) \n",
    "\n",
    "from classifier import Classifier\n",
    "Classifier??"
   ]
  },
  {
   "cell_type": "markdown",
   "metadata": {
    "deletable": true,
    "editable": true
   },
   "source": [
    "Train, run, and save your classifier and your predictions. If you saved a trained model and/or prediction results, the evaluation script will look for those and use those in priority [(1) use saved predictions; (2) if no predictions, use saved model, do not retrain, just test; (3) if neither, train and test model from scratch]. Compute the predictions with predict_proba, this is more versatile."
   ]
  },
  {
   "cell_type": "code",
   "execution_count": 36,
   "metadata": {
    "collapsed": false,
    "deletable": true,
    "editable": true
   },
   "outputs": [
    {
     "name": "stdout",
     "output_type": "stream",
     "text": [
      "res/movies_model.pickle  res/movies_test.predict  res/movies_valid.predict\r\n"
     ]
    }
   ],
   "source": [
    "result_dir = 'res/'\n",
    "\n",
    "# outname = res/movies\n",
    "outname = result_dir + dataname\n",
    "\n",
    "clf = Classifier()\n",
    "clf.fit(X_train, y_train)\n",
    "Y_valid = clf.predict(X_valid) \n",
    "Y_test = clf.predict(X_test) \n",
    "clf.save(outname)\n",
    "clf.load(outname)\n",
    "data_io.write(outname + '_valid.predict', Y_valid)\n",
    "data_io.write(outname + '_test.predict', Y_test)\n",
    "!ls $outname*"
   ]
  },
  {
   "cell_type": "markdown",
   "metadata": {
    "deletable": true,
    "editable": true
   },
   "source": [
    "Compute the training accuracy."
   ]
  },
  {
   "cell_type": "code",
   "execution_count": 27,
   "metadata": {
    "collapsed": false,
    "deletable": true,
    "editable": true
   },
   "outputs": [],
   "source": [
    "from sklearn.cross_validation import train_test_split\n",
    "X_training, X_valid, y_training, y_valid = train_test_split(X_train, y_train, test_size = 0.4, random_state = 0)\n",
    "def benchmark(clf, name):\n",
    "    t0 = time()\n",
    "    pred = clf.predict(X_valid)\n",
    "    test_time = time() - t0\n",
    "    print(\"test time:  %0.3fs\" % test_time)\n",
    "    \n",
    "    f1_micro = f1_score(y_valid, pred, average=\"micro\")\n",
    "    f1_macro = f1_score(y_valid, pred, average=\"macro\")\n",
    "    f1_weighted = f1_score(y_valid, pred, average=\"weighted\")\n",
    "    f1_samples = f1_score(y_valid, pred, average=\"samples\")\n",
    "    \n",
    "    print('F1-Score with micro compute: {0}'.format(f1_micro))\n",
    "    print('F1-Score with macro compute: {0}'.format(f1_macro))\n",
    "    print('F1-Score with weighted compute: {0}'.format(f1_weighted))\n",
    "    print('F1-Score with samples compute: {0}'.format(f1_samples))\n",
    "    print \"\\n\"\n",
    "    print classification_report(y_valid, pred, target_names=list_genres)\n",
    "    \n",
    "    return name, f1_micro, f1_macro, f1_weighted, f1_samples\n",
    "\n",
    "results = []"
   ]
  },
  {
   "cell_type": "code",
   "execution_count": 28,
   "metadata": {
    "collapsed": false,
    "deletable": true,
    "editable": true
   },
   "outputs": [
    {
     "ename": "AttributeError",
     "evalue": "'LinearRegression' object has no attribute 'classes_'",
     "output_type": "error",
     "traceback": [
      "\u001b[0;31m---------------------------------------------------------------------------\u001b[0m",
      "\u001b[0;31mAttributeError\u001b[0m                            Traceback (most recent call last)",
      "\u001b[0;32m<ipython-input-28-e2d199d9a87f>\u001b[0m in \u001b[0;36m<module>\u001b[0;34m()\u001b[0m\n\u001b[1;32m      1\u001b[0m \u001b[0;32mfrom\u001b[0m \u001b[0msklearn\u001b[0m\u001b[0;34m.\u001b[0m\u001b[0mmetrics\u001b[0m \u001b[0;32mimport\u001b[0m \u001b[0mf1_score\u001b[0m\u001b[0;34m,\u001b[0m \u001b[0mclassification_report\u001b[0m\u001b[0;34m\u001b[0m\u001b[0m\n\u001b[1;32m      2\u001b[0m \u001b[0;31m# Directly predicts the (categorical) class labels\u001b[0m\u001b[0;34m\u001b[0m\u001b[0;34m\u001b[0m\u001b[0m\n\u001b[0;32m----> 3\u001b[0;31m \u001b[0mclass_labels\u001b[0m \u001b[0;34m=\u001b[0m \u001b[0mclf\u001b[0m\u001b[0;34m.\u001b[0m\u001b[0mget_classes\u001b[0m\u001b[0;34m(\u001b[0m\u001b[0;34m)\u001b[0m\u001b[0;34m\u001b[0m\u001b[0m\n\u001b[0m\u001b[1;32m      4\u001b[0m \u001b[0;32mprint\u001b[0m \u001b[0;34m'Class labels='\u001b[0m\u001b[0;34m,\u001b[0m \u001b[0mclass_labels\u001b[0m\u001b[0;34m\u001b[0m\u001b[0m\n",
      "\u001b[0;32m/root/Bureau/L2MI/MiniProjet/starting_kit/sample_code/classifier.py\u001b[0m in \u001b[0;36mget_classes\u001b[0;34m(self)\u001b[0m\n\u001b[1;32m     23\u001b[0m \u001b[0;34m\u001b[0m\u001b[0m\n\u001b[1;32m     24\u001b[0m     \u001b[0;32mdef\u001b[0m \u001b[0mget_classes\u001b[0m\u001b[0;34m(\u001b[0m\u001b[0mself\u001b[0m\u001b[0;34m)\u001b[0m\u001b[0;34m:\u001b[0m\u001b[0;34m\u001b[0m\u001b[0m\n\u001b[0;32m---> 25\u001b[0;31m         \u001b[0;32mreturn\u001b[0m \u001b[0mself\u001b[0m\u001b[0;34m.\u001b[0m\u001b[0mclf\u001b[0m\u001b[0;34m.\u001b[0m\u001b[0mclasses_\u001b[0m\u001b[0;34m\u001b[0m\u001b[0m\n\u001b[0m\u001b[1;32m     26\u001b[0m \u001b[0;34m\u001b[0m\u001b[0m\n\u001b[1;32m     27\u001b[0m     \u001b[0;32mdef\u001b[0m \u001b[0msave\u001b[0m\u001b[0;34m(\u001b[0m\u001b[0mself\u001b[0m\u001b[0;34m,\u001b[0m \u001b[0mpath\u001b[0m\u001b[0;34m=\u001b[0m\u001b[0;34m\"./\"\u001b[0m\u001b[0;34m)\u001b[0m\u001b[0;34m:\u001b[0m\u001b[0;34m\u001b[0m\u001b[0m\n",
      "\u001b[0;31mAttributeError\u001b[0m: 'LinearRegression' object has no attribute 'classes_'"
     ]
    }
   ],
   "source": [
    "from sklearn.metrics import f1_score, classification_report\n",
    "# Directly predicts the (categorical) class labels              \n",
    "class_labels = clf.get_classes()     \n",
    "print 'Class labels=', class_labels"
   ]
  },
  {
   "cell_type": "markdown",
   "metadata": {
    "deletable": true,
    "editable": true
   },
   "source": [
    "Compute F1 scores"
   ]
  },
  {
   "cell_type": "code",
   "execution_count": 29,
   "metadata": {
    "collapsed": false,
    "deletable": true,
    "editable": true
   },
   "outputs": [
    {
     "ename": "NotFittedError",
     "evalue": "This LinearRegression instance is not fitted yet. Call 'fit' with appropriate arguments before using this method.",
     "output_type": "error",
     "traceback": [
      "\u001b[0;31m---------------------------------------------------------------------------\u001b[0m",
      "\u001b[0;31mNotFittedError\u001b[0m                            Traceback (most recent call last)",
      "\u001b[0;32m<ipython-input-29-21ab662478eb>\u001b[0m in \u001b[0;36m<module>\u001b[0;34m()\u001b[0m\n\u001b[1;32m      1\u001b[0m \u001b[0mclf\u001b[0m \u001b[0;34m=\u001b[0m \u001b[0mClassifier\u001b[0m\u001b[0;34m(\u001b[0m\u001b[0;34m)\u001b[0m\u001b[0;34m\u001b[0m\u001b[0m\n\u001b[1;32m      2\u001b[0m \u001b[0mclf\u001b[0m\u001b[0;34m.\u001b[0m\u001b[0mfit\u001b[0m\u001b[0;34m(\u001b[0m\u001b[0mX_training\u001b[0m\u001b[0;34m,\u001b[0m \u001b[0my_training\u001b[0m\u001b[0;34m)\u001b[0m\u001b[0;34m\u001b[0m\u001b[0m\n\u001b[0;32m----> 3\u001b[0;31m \u001b[0mresults\u001b[0m\u001b[0;34m.\u001b[0m\u001b[0mappend\u001b[0m\u001b[0;34m(\u001b[0m\u001b[0mbenchmark\u001b[0m\u001b[0;34m(\u001b[0m\u001b[0mclf\u001b[0m\u001b[0;34m,\u001b[0m \u001b[0;34m'bernoulli - alpha - 0.005'\u001b[0m\u001b[0;34m)\u001b[0m\u001b[0;34m)\u001b[0m\u001b[0;34m\u001b[0m\u001b[0m\n\u001b[0m",
      "\u001b[0;32m<ipython-input-27-29e6ef11a29f>\u001b[0m in \u001b[0;36mbenchmark\u001b[0;34m(clf, name)\u001b[0m\n\u001b[1;32m      3\u001b[0m \u001b[0;32mdef\u001b[0m \u001b[0mbenchmark\u001b[0m\u001b[0;34m(\u001b[0m\u001b[0mclf\u001b[0m\u001b[0;34m,\u001b[0m \u001b[0mname\u001b[0m\u001b[0;34m)\u001b[0m\u001b[0;34m:\u001b[0m\u001b[0;34m\u001b[0m\u001b[0m\n\u001b[1;32m      4\u001b[0m     \u001b[0mt0\u001b[0m \u001b[0;34m=\u001b[0m \u001b[0mtime\u001b[0m\u001b[0;34m(\u001b[0m\u001b[0;34m)\u001b[0m\u001b[0;34m\u001b[0m\u001b[0m\n\u001b[0;32m----> 5\u001b[0;31m     \u001b[0mpred\u001b[0m \u001b[0;34m=\u001b[0m \u001b[0mclf\u001b[0m\u001b[0;34m.\u001b[0m\u001b[0mpredict\u001b[0m\u001b[0;34m(\u001b[0m\u001b[0mX_valid\u001b[0m\u001b[0;34m)\u001b[0m\u001b[0;34m\u001b[0m\u001b[0m\n\u001b[0m\u001b[1;32m      6\u001b[0m     \u001b[0mtest_time\u001b[0m \u001b[0;34m=\u001b[0m \u001b[0mtime\u001b[0m\u001b[0;34m(\u001b[0m\u001b[0;34m)\u001b[0m \u001b[0;34m-\u001b[0m \u001b[0mt0\u001b[0m\u001b[0;34m\u001b[0m\u001b[0m\n\u001b[1;32m      7\u001b[0m     \u001b[0;32mprint\u001b[0m\u001b[0;34m(\u001b[0m\u001b[0;34m\"test time:  %0.3fs\"\u001b[0m \u001b[0;34m%\u001b[0m \u001b[0mtest_time\u001b[0m\u001b[0;34m)\u001b[0m\u001b[0;34m\u001b[0m\u001b[0m\n",
      "\u001b[0;32m/root/Bureau/L2MI/MiniProjet/starting_kit/sample_code/classifier.py\u001b[0m in \u001b[0;36mpredict\u001b[0;34m(self, X)\u001b[0m\n\u001b[1;32m     17\u001b[0m         \u001b[0mself\u001b[0m\u001b[0;34m.\u001b[0m\u001b[0mclf\u001b[0m \u001b[0;34m=\u001b[0m  \u001b[0mlinear_model\u001b[0m\u001b[0;34m.\u001b[0m\u001b[0mLinearRegression\u001b[0m\u001b[0;34m(\u001b[0m\u001b[0;34m)\u001b[0m\u001b[0;34m\u001b[0m\u001b[0m\n\u001b[1;32m     18\u001b[0m     \u001b[0;32mdef\u001b[0m \u001b[0mpredict\u001b[0m\u001b[0;34m(\u001b[0m\u001b[0mself\u001b[0m\u001b[0;34m,\u001b[0m \u001b[0mX\u001b[0m\u001b[0;34m)\u001b[0m\u001b[0;34m:\u001b[0m\u001b[0;34m\u001b[0m\u001b[0m\n\u001b[0;32m---> 19\u001b[0;31m         \u001b[0;32mreturn\u001b[0m \u001b[0mself\u001b[0m\u001b[0;34m.\u001b[0m\u001b[0mclf\u001b[0m\u001b[0;34m.\u001b[0m\u001b[0mpredict\u001b[0m\u001b[0;34m(\u001b[0m\u001b[0mX\u001b[0m\u001b[0;34m)\u001b[0m\u001b[0;34m\u001b[0m\u001b[0m\n\u001b[0m\u001b[1;32m     20\u001b[0m \u001b[0;34m\u001b[0m\u001b[0m\n\u001b[1;32m     21\u001b[0m     \u001b[0;32mdef\u001b[0m \u001b[0mpredict_proba\u001b[0m\u001b[0;34m(\u001b[0m\u001b[0mself\u001b[0m\u001b[0;34m,\u001b[0m \u001b[0mX\u001b[0m\u001b[0;34m)\u001b[0m\u001b[0;34m:\u001b[0m\u001b[0;34m\u001b[0m\u001b[0m\n",
      "\u001b[0;32m/root/anaconda2/envs/py27/lib/python2.7/site-packages/sklearn/linear_model/base.pyc\u001b[0m in \u001b[0;36mpredict\u001b[0;34m(self, X)\u001b[0m\n\u001b[1;32m    266\u001b[0m             \u001b[0mReturns\u001b[0m \u001b[0mpredicted\u001b[0m \u001b[0mvalues\u001b[0m\u001b[0;34m.\u001b[0m\u001b[0;34m\u001b[0m\u001b[0m\n\u001b[1;32m    267\u001b[0m         \"\"\"\n\u001b[0;32m--> 268\u001b[0;31m         \u001b[0;32mreturn\u001b[0m \u001b[0mself\u001b[0m\u001b[0;34m.\u001b[0m\u001b[0m_decision_function\u001b[0m\u001b[0;34m(\u001b[0m\u001b[0mX\u001b[0m\u001b[0;34m)\u001b[0m\u001b[0;34m\u001b[0m\u001b[0m\n\u001b[0m\u001b[1;32m    269\u001b[0m \u001b[0;34m\u001b[0m\u001b[0m\n\u001b[1;32m    270\u001b[0m     \u001b[0m_preprocess_data\u001b[0m \u001b[0;34m=\u001b[0m \u001b[0mstaticmethod\u001b[0m\u001b[0;34m(\u001b[0m\u001b[0m_preprocess_data\u001b[0m\u001b[0;34m)\u001b[0m\u001b[0;34m\u001b[0m\u001b[0m\n",
      "\u001b[0;32m/root/anaconda2/envs/py27/lib/python2.7/site-packages/sklearn/linear_model/base.pyc\u001b[0m in \u001b[0;36m_decision_function\u001b[0;34m(self, X)\u001b[0m\n\u001b[1;32m    247\u001b[0m \u001b[0;34m\u001b[0m\u001b[0m\n\u001b[1;32m    248\u001b[0m     \u001b[0;32mdef\u001b[0m \u001b[0m_decision_function\u001b[0m\u001b[0;34m(\u001b[0m\u001b[0mself\u001b[0m\u001b[0;34m,\u001b[0m \u001b[0mX\u001b[0m\u001b[0;34m)\u001b[0m\u001b[0;34m:\u001b[0m\u001b[0;34m\u001b[0m\u001b[0m\n\u001b[0;32m--> 249\u001b[0;31m         \u001b[0mcheck_is_fitted\u001b[0m\u001b[0;34m(\u001b[0m\u001b[0mself\u001b[0m\u001b[0;34m,\u001b[0m \u001b[0;34m\"coef_\"\u001b[0m\u001b[0;34m)\u001b[0m\u001b[0;34m\u001b[0m\u001b[0m\n\u001b[0m\u001b[1;32m    250\u001b[0m \u001b[0;34m\u001b[0m\u001b[0m\n\u001b[1;32m    251\u001b[0m         \u001b[0mX\u001b[0m \u001b[0;34m=\u001b[0m \u001b[0mcheck_array\u001b[0m\u001b[0;34m(\u001b[0m\u001b[0mX\u001b[0m\u001b[0;34m,\u001b[0m \u001b[0maccept_sparse\u001b[0m\u001b[0;34m=\u001b[0m\u001b[0;34m[\u001b[0m\u001b[0;34m'csr'\u001b[0m\u001b[0;34m,\u001b[0m \u001b[0;34m'csc'\u001b[0m\u001b[0;34m,\u001b[0m \u001b[0;34m'coo'\u001b[0m\u001b[0;34m]\u001b[0m\u001b[0;34m)\u001b[0m\u001b[0;34m\u001b[0m\u001b[0m\n",
      "\u001b[0;32m/root/anaconda2/envs/py27/lib/python2.7/site-packages/sklearn/utils/validation.pyc\u001b[0m in \u001b[0;36mcheck_is_fitted\u001b[0;34m(estimator, attributes, msg, all_or_any)\u001b[0m\n\u001b[1;32m    688\u001b[0m     \u001b[0;32mif\u001b[0m \u001b[0;32mnot\u001b[0m \u001b[0mall_or_any\u001b[0m\u001b[0;34m(\u001b[0m\u001b[0;34m[\u001b[0m\u001b[0mhasattr\u001b[0m\u001b[0;34m(\u001b[0m\u001b[0mestimator\u001b[0m\u001b[0;34m,\u001b[0m \u001b[0mattr\u001b[0m\u001b[0;34m)\u001b[0m \u001b[0;32mfor\u001b[0m \u001b[0mattr\u001b[0m \u001b[0;32min\u001b[0m \u001b[0mattributes\u001b[0m\u001b[0;34m]\u001b[0m\u001b[0;34m)\u001b[0m\u001b[0;34m:\u001b[0m\u001b[0;34m\u001b[0m\u001b[0m\n\u001b[1;32m    689\u001b[0m         \u001b[0;31m# FIXME NotFittedError_ --> NotFittedError in 0.19\u001b[0m\u001b[0;34m\u001b[0m\u001b[0;34m\u001b[0m\u001b[0m\n\u001b[0;32m--> 690\u001b[0;31m         \u001b[0;32mraise\u001b[0m \u001b[0m_NotFittedError\u001b[0m\u001b[0;34m(\u001b[0m\u001b[0mmsg\u001b[0m \u001b[0;34m%\u001b[0m \u001b[0;34m{\u001b[0m\u001b[0;34m'name'\u001b[0m\u001b[0;34m:\u001b[0m \u001b[0mtype\u001b[0m\u001b[0;34m(\u001b[0m\u001b[0mestimator\u001b[0m\u001b[0;34m)\u001b[0m\u001b[0;34m.\u001b[0m\u001b[0m__name__\u001b[0m\u001b[0;34m}\u001b[0m\u001b[0;34m)\u001b[0m\u001b[0;34m\u001b[0m\u001b[0m\n\u001b[0m\u001b[1;32m    691\u001b[0m \u001b[0;34m\u001b[0m\u001b[0m\n\u001b[1;32m    692\u001b[0m \u001b[0;34m\u001b[0m\u001b[0m\n",
      "\u001b[0;31mNotFittedError\u001b[0m: This LinearRegression instance is not fitted yet. Call 'fit' with appropriate arguments before using this method."
     ]
    }
   ],
   "source": [
    "clf = Classifier()\n",
    "clf.fit(X_training, y_training)\n",
    "results.append(benchmark(clf, 'bernoulli - alpha - 0.005'))"
   ]
  },
  {
   "cell_type": "markdown",
   "metadata": {
    "deletable": true,
    "editable": true
   },
   "source": [
    "Plot F1 scores"
   ]
  },
  {
   "cell_type": "code",
   "execution_count": 20,
   "metadata": {
    "collapsed": false,
    "deletable": true,
    "editable": true
   },
   "outputs": [
    {
     "data": {
      "image/png": "[encoded data removed]",
      "text/plain": [
       "<matplotlib.figure.Figure at 0x7fae62ae4610>"
      ]
     },
     "metadata": {},
     "output_type": "display_data"
    }
   ],
   "source": [
    "indices = np.arange(len(results))\n",
    "results_final = [[x[i] for x in results] for i in range(5)]\n",
    "clf_names, f1_micro, f1_macro, f1_weighted, f1_samples = results_final\n",
    "width = 0.25\n",
    "fig = plt.figure(figsize=(12, 5))\n",
    "s = fig.add_subplot(111)\n",
    "plt.title(\"Score\")\n",
    "s.bar(indices + width, f1_micro, .2, label=\"score F1 micro\", color='green')\n",
    "s.bar(indices + 2*width, f1_macro, .2, label=\"score F1 macro\", color='blue')\n",
    "s.bar(indices + 3*width, f1_weighted, .2, label=\"score F1 weighted\", color='orange')\n",
    "s.bar(indices + 4*width, f1_samples, .2, label=\"score F1 samples\", color='yellow')\n",
    "s.legend(bbox_to_anchor=(1.05, 1), loc=2, borderaxespad=0.)\n",
    "s.set_xlim(0, 1.5)\n",
    "\n",
    "for i, c in zip(indices, clf_names):\n",
    "    plt.text(-.4, i, c)\n",
    "\n",
    "plt.show()"
   ]
  },
  {
   "cell_type": "markdown",
   "metadata": {
    "deletable": true,
    "editable": true
   },
   "source": [
    "ADVANCED: Sklearn does not have multi-class metrics, this shows how libscore metrics work."
   ]
  },
  {
   "cell_type": "markdown",
   "metadata": {
    "deletable": true,
    "editable": true
   },
   "source": [
    "## Unit testing"
   ]
  },
  {
   "cell_type": "markdown",
   "metadata": {
    "deletable": true,
    "editable": true
   },
   "source": [
    "It is <b><span style=\"color:red\">important that you test your submission files before submitting them</span></b>. All you have to do to make a submission is modify the file <code>classifier.py</code> in the <code>sample_code/</code> directory, then run this test to make sure everything works fine. This is the actual program that will be run on the server to test your submission.  The program looks for saved results and saved models in the subdirectory <code>res/</code>. If it finds them, it will use them: (1) If results are found, then are copied to the output directory; (2) If no results but a trained model is found, it is reloaded and no training occurs; (3) If nothing is found a fresh model is trained and tested."
   ]
  },
  {
   "cell_type": "code",
   "execution_count": 21,
   "metadata": {
    "collapsed": false,
    "deletable": true,
    "editable": true,
    "scrolled": true
   },
   "outputs": [],
   "source": [
    "outdir = './res'         # If you use result_dir as output directory, your submission will include your results"
   ]
  },
  {
   "cell_type": "code",
   "execution_count": 22,
   "metadata": {
    "collapsed": false,
    "deletable": true,
    "editable": true,
    "scrolled": false
   },
   "outputs": [
    {
     "name": "stdout",
     "output_type": "stream",
     "text": [
      "Traceback (most recent call last):\r\n",
      "  File \"run.py\", line 134, in <module>\r\n",
      "    import data_io# general purpose input/output functions\r\n",
      "  File \"/root/Bureau/L2MI/MiniProjet/starting_kit/sample_code/data_io.py\", line 25, in <module>\r\n",
      "    import pandas as pd\r\n",
      "ImportError: No module named pandas\r\n"
     ]
    }
   ],
   "source": [
    "!python run.py $datadir $outdir"
   ]
  },
  {
   "cell_type": "markdown",
   "metadata": {
    "collapsed": true,
    "deletable": true,
    "editable": true
   },
   "source": [
    "## Making your submission\n",
    "\n",
    "The test program <code>run.py</code> prepares your <code>zip</code> file, ready to go. You find it in the directory above where you ran your program. For large datasets, we recommend that <b><span style=\"color:red\">you do NOT bundle the data with your submission</span></b>. The data directory is passed as an argument to run.py, and it is already there on the test server."
   ]
  },
  {
   "cell_type": "code",
   "execution_count": 23,
   "metadata": {
    "collapsed": false,
    "deletable": true,
    "editable": true
   },
   "outputs": [
    {
     "name": "stdout",
     "output_type": "stream",
     "text": [
      "0.00412294607214\n",
      "0.129498900938\n",
      "0.12915469275\n",
      "0.113077986576\n",
      "0.104268521154\n",
      "0.121165058151\n",
      "0.133063549431\n",
      "0.138624562497\n",
      "0.130898712442\n",
      "0.124444768428\n",
      "0.118829463913\n",
      "0.115140831822\n",
      "0.110869179469\n",
      "0.106933946659\n"
     ]
    }
   ],
   "source": [
    "from sklearn.utils import resample\n",
    "from sklearn.metrics import f1_score\n",
    "from sklearn.naive_bayes import BernoulliNB, MultinomialNB\n",
    "X_training, X_valid, y_training, y_valid = train_test_split(X_train, y_train, test_size = 0.3, random_state = 0)\n",
    "\n",
    "score = []\n",
    "error_bars = []\n",
    "labels = class_labels\n",
    "for j in labels:\n",
    "    clf = BernoulliNB(alpha = 0.005)\n",
    "    clf.fit(X_training, y_training[:,j])\n",
    "    for i in range(100):\n",
    "        X_sub_test, y_sub_test = resample(X_valid, y_valid[:,j],replace=True)\n",
    "        y_pred = clf.predict(X_sub_test)\n",
    "        f1_weighted = f1_score(y_sub_test, y_pred, average = \"binary\")\n",
    "        score.append(f1_weighted)\n",
    "    print np.std(score)\n",
    "    error_bars.append(np.std(score))"
   ]
  },
  {
   "cell_type": "code",
   "execution_count": 18,
   "metadata": {
    "collapsed": false,
    "deletable": true,
    "editable": true
   },
   "outputs": [
    {
     "name": "stdout",
     "output_type": "stream",
     "text": [
      "0.772118787506\n",
      "0.512330145949\n",
      "0.480474542758\n",
      "0.59173126615\n",
      "0.498284145504\n",
      "0.378650553877\n",
      "0.333333333333\n",
      "0.317002881844\n",
      "0.520773344303\n",
      "0.473568281938\n",
      "0.484230955847\n",
      "0.548\n",
      "0.447876447876\n",
      "0.46968238691\n"
     ]
    },
    {
     "data": {
      "text/plain": [
       "<Container object of 3 artists>"
      ]
     },
     "execution_count": 18,
     "metadata": {},
     "output_type": "execute_result"
    },
    {
     "data": {
      "image/png": "[encoded data removed]",
      "text/plain": [
       "<matplotlib.figure.Figure at 0x7fae0bab1dd0>"
      ]
     },
     "metadata": {},
     "output_type": "display_data"
    }
   ],
   "source": [
    "# Chain Classifier\n",
    "from sklearn.naive_bayes import BernoulliNB, MultinomialNB\n",
    "from sklearn.cross_validation import train_test_split\n",
    "from scipy import sparse\n",
    "X_training, X_valid, y_training, y_valid = train_test_split(X_train, y_train, test_size = 0.2, random_state = 0)\n",
    "\n",
    "#order = [0,3,11,1,12,4,8,10,9,2,5,6,7]\n",
    "\n",
    "labels = class_labels\n",
    "scores = []\n",
    "nb_ex = []\n",
    "for i in range(len(class_labels)):\n",
    "    y_training_1 = y_training[:,i]\n",
    "    clf =  BernoulliNB(alpha = 0.005)\n",
    "    clf.fit(X_training, y_training_1)\n",
    "    pred = clf.predict(X_valid)\n",
    "    f1 = f1_score(y_valid[:,i], pred, average=\"binary\")\n",
    "    scores.append(f1)\n",
    "    nb_ex.append(len(y_training_1))\n",
    "    print(f1)\n",
    "    #X_training = sparse.hstack((X_training, y_training_1.reshape(len(y_training_1), 1)))\n",
    "    #X_valid = sparse.hstack((X_valid, pred.reshape(len(pred), 1)))\n",
    "\n",
    "scores = np.array(scores)\n",
    "my_xticks = list_genres\n",
    "plt.xticks(labels, my_xticks, rotation = 'vertical')\n",
    "plt.xlim(0,14, 10)\n",
    "plt.bar(labels, scores, color=\"green\")\n",
    "err = 0.1*np.ones(len(labels))\n",
    "plt.errorbar(labels, scores, yerr=error_bars, fmt='none')\n",
    "#nb_ex = np.array(nb_ex)\n",
    "#wheighted_score = scores.dot(nb_ex)/(nb_ex.sum()*1.0)\n",
    "#print(\"weighted_score : \" + str(wheighted_score))"
   ]
  },
  {
   "cell_type": "code",
   "execution_count": 19,
   "metadata": {
    "collapsed": false,
    "deletable": true,
    "editable": true
   },
   "outputs": [
    {
     "data": {
      "text/plain": [
       "<Container object of 3 artists>"
      ]
     },
     "execution_count": 19,
     "metadata": {},
     "output_type": "execute_result"
    },
    {
     "data": {
      "image/png": "[encoded data removed]",
      "text/plain": [
       "<matplotlib.figure.Figure at 0x7fae0a4fd410>"
      ]
     },
     "metadata": {},
     "output_type": "display_data"
    }
   ],
   "source": [
    "scores = y_train.sum(axis = 0)\n",
    "n = len(scores)\n",
    "mid = scores\n",
    "my_xticks = list_genres\n",
    "plt.xticks(labels, my_xticks, rotation = 'vertical')\n",
    "plt.xlim(0,14, 10)\n",
    "plt.title(\"Number of exemples by genre\")\n",
    "plt.ylabel('Number of training exemples')\n",
    "plt.bar(labels, scores, color=\"blue\")\n",
    "plt.errorbar(5, n, yerr=0.01, fmt='none')"
   ]
  },
  {
   "cell_type": "code",
   "execution_count": 20,
   "metadata": {
    "collapsed": false,
    "deletable": true,
    "editable": true
   },
   "outputs": [],
   "source": [
    "assoc = {}\n",
    "assoc_inv = {}\n",
    "count = 0\n",
    "for i in range(y_train.shape[0]):\n",
    "    if tuple(y_train[i]) not in assoc.keys():\n",
    "        assoc[tuple(y_train[i])] = count\n",
    "        assoc_inv[count] = y_train[i]\n",
    "        count += 1\n",
    "        \n"
   ]
  },
  {
   "cell_type": "code",
   "execution_count": 21,
   "metadata": {
    "collapsed": false,
    "deletable": true,
    "editable": true
   },
   "outputs": [],
   "source": [
    "from sklearn.model_selection import learning_curve\n",
    "clf = Classifier()\n",
    "train_sizes, train_scores, test_scores = learning_curve(clf, X_train, y_train, cv=5, scoring = 'f1_weighted', train_sizes = np.linspace(0.1, 1.0, 10))"
   ]
  },
  {
   "cell_type": "code",
   "execution_count": 22,
   "metadata": {
    "collapsed": false,
    "deletable": true,
    "editable": true
   },
   "outputs": [
    {
     "name": "stdout",
     "output_type": "stream",
     "text": [
      "[ 0.94361027  0.90968458  0.8902576   0.86972521  0.85275121  0.84047586\n",
      "  0.8252417   0.81360785  0.80455537  0.79465139]\n",
      "[ 0.46816208  0.51805096  0.53852334  0.54818432  0.55387326  0.55746502\n",
      "  0.5578951   0.55713971  0.55849732  0.55862165]\n"
     ]
    },
    {
     "data": {
      "image/png": "[encoded data removed]",
      "text/plain": [
       "<matplotlib.figure.Figure at 0x7fae0acf2790>"
      ]
     },
     "metadata": {},
     "output_type": "display_data"
    }
   ],
   "source": [
    "train_scores_mean = np.mean(train_scores, axis=1)\n",
    "train_scores_std = np.std(train_scores, axis=1)\n",
    "test_scores_mean = np.mean(test_scores, axis=1)\n",
    "test_scores_std = np.std(test_scores, axis=1)\n",
    "plt.title('Learning curve')\n",
    "plt.ylabel('F1 score')\n",
    "plt.xlabel('Number of training exemples')\n",
    "plt.plot(train_sizes, train_scores_mean, label = 'Training Score')\n",
    "plt.plot(train_sizes, test_scores_mean, label = 'Test Score')\n",
    "plt.legend()\n",
    "print(train_scores_mean)\n",
    "print(test_scores_mean)"
   ]
  },
  {
   "cell_type": "code",
   "execution_count": 23,
   "metadata": {
    "collapsed": false,
    "deletable": true,
    "editable": true
   },
   "outputs": [
    {
     "name": "stderr",
     "output_type": "stream",
     "text": [
      "/home/lena/anaconda2/lib/python2.7/site-packages/ipykernel/__main__.py:12: RuntimeWarning: invalid value encountered in greater\n"
     ]
    }
   ],
   "source": [
    "from sklearn.feature_selection import chi2, SelectKBest\n",
    "labels = range(y_train.shape[1])\n",
    "selected_features = [] \n",
    "for label in labels:\n",
    "    selector = SelectKBest(chi2, k='all')\n",
    "    selector.fit(X_train, y_train[:,label])\n",
    "    selected_features.append(list(selector.scores_))\n",
    "\n",
    "threshold = 15000  \n",
    "    \n",
    "#MeanCS \n",
    "selected_features = np.mean(selected_features, axis=0) > threshold\n",
    "#MaxCS\n",
    "#selected_features = np.max(selected_features, axis=0) > threshold"
   ]
  },
  {
   "cell_type": "code",
   "execution_count": 24,
   "metadata": {
    "collapsed": true,
    "deletable": true,
    "editable": true
   },
   "outputs": [],
   "source": [
    "def feature_select(X, y):\n",
    "    labels = range(y.shape[1])\n",
    "    selected_features = [] \n",
    "    for label in labels:\n",
    "        selector = SelectKBest(chi2, k='all')\n",
    "        selector.fit(X, y[:,label])\n",
    "        selected_features.append(list(selector.scores_))\n",
    "\n",
    "    threshold = 15000  \n",
    "    \n",
    "    #MeanCS \n",
    "    selected_features = np.mean(selected_features, axis=0) > threshold\n",
    "    return selected_features"
   ]
  },
  {
   "cell_type": "code",
   "execution_count": 25,
   "metadata": {
    "collapsed": false,
    "deletable": true,
    "editable": true
   },
   "outputs": [
    {
     "name": "stdout",
     "output_type": "stream",
     "text": [
      "0.587576359946\n"
     ]
    },
    {
     "name": "stderr",
     "output_type": "stream",
     "text": [
      "/home/lena/anaconda2/lib/python2.7/site-packages/ipykernel/__main__.py:12: RuntimeWarning: invalid value encountered in greater\n"
     ]
    }
   ],
   "source": [
    "X_train_select, X_valid, y_train2, y_valid = train_test_split(X_train, y_train, test_size = 0.3, random_state = 0)\n",
    "selected_features = feature_select(X_train_select, y_train2)\n",
    "X_train_select = X_train_select[:,selected_features]\n",
    "X_valid = X_valid[:,selected_features]\n",
    "clf = Classifier()\n",
    "clf.fit(X_train_select, y_train2)\n",
    "pred = clf.predict(X_valid)\n",
    "f1_weighted = f1_score(y_valid, pred, average=\"weighted\")\n",
    "print(f1_weighted)"
   ]
  },
  {
   "cell_type": "code",
   "execution_count": 26,
   "metadata": {
    "collapsed": false,
    "deletable": true,
    "editable": true
   },
   "outputs": [
    {
     "name": "stdout",
     "output_type": "stream",
     "text": [
      "[0, 1, 2, 3, 4, 5, 6, 7, 8, 9, 10, 11, 12, 13]\n"
     ]
    }
   ],
   "source": [
    "print(labels)"
   ]
  },
  {
   "cell_type": "code",
   "execution_count": null,
   "metadata": {
    "collapsed": true,
    "deletable": true,
    "editable": true
   },
   "outputs": [],
   "source": []
  },
  {
   "cell_type": "code",
   "execution_count": null,
   "metadata": {
    "collapsed": true,
    "deletable": true,
    "editable": true
   },
   "outputs": [],
   "source": []
  },
  {
   "cell_type": "code",
   "execution_count": null,
   "metadata": {
    "collapsed": true,
    "deletable": true,
    "editable": true
   },
   "outputs": [],
   "source": []
  },
  {
   "cell_type": "code",
   "execution_count": null,
   "metadata": {
    "collapsed": true,
    "deletable": true,
    "editable": true
   },
   "outputs": [],
   "source": []
  },
  {
   "cell_type": "code",
   "execution_count": null,
   "metadata": {
    "collapsed": true,
    "deletable": true,
    "editable": true
   },
   "outputs": [],
   "source": []
  },
  {
   "cell_type": "code",
   "execution_count": null,
   "metadata": {
    "collapsed": true,
    "deletable": true,
    "editable": true
   },
   "outputs": [],
   "source": []
  },
  {
   "cell_type": "code",
   "execution_count": null,
   "metadata": {
    "collapsed": true,
    "deletable": true,
    "editable": true
   },
   "outputs": [],
   "source": []
  },
  {
   "cell_type": "code",
   "execution_count": null,
   "metadata": {
    "collapsed": true,
    "deletable": true,
    "editable": true
   },
   "outputs": [],
   "source": []
  },
  {
   "cell_type": "code",
   "execution_count": null,
   "metadata": {
    "collapsed": true,
    "deletable": true,
    "editable": true
   },
   "outputs": [],
   "source": []
  },
  {
   "cell_type": "code",
   "execution_count": null,
   "metadata": {
    "collapsed": true,
    "deletable": true,
    "editable": true
   },
   "outputs": [],
   "source": []
  },
  {
   "cell_type": "code",
   "execution_count": null,
   "metadata": {
    "collapsed": true,
    "deletable": true,
    "editable": true
   },
   "outputs": [],
   "source": []
  },
  {
   "cell_type": "code",
   "execution_count": null,
   "metadata": {
    "collapsed": true,
    "deletable": true,
    "editable": true
   },
   "outputs": [],
   "source": []
  },
  {
   "cell_type": "code",
   "execution_count": null,
   "metadata": {
    "collapsed": true,
    "deletable": true,
    "editable": true
   },
   "outputs": [],
   "source": []
  }
 ],
 "metadata": {
  "anaconda-cloud": {},
  "kernelspec": {
   "display_name": "py27",
   "language": "python",
   "name": "py27"
  },
  "language_info": {
   "codemirror_mode": {
    "name": "ipython",
    "version": 2
   },
   "file_extension": ".py",
   "mimetype": "text/x-python",
   "name": "python",
   "nbconvert_exporter": "python",
   "pygments_lexer": "ipython2",
   "version": "2.7.13"
  }
 },
 "nbformat": 4,
 "nbformat_minor": 0
}
